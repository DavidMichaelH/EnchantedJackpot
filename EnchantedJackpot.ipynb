{
  "nbformat": 4,
  "nbformat_minor": 0,
  "metadata": {
    "colab": {
      "private_outputs": true,
      "provenance": [],
      "authorship_tag": "ABX9TyPn6QSomfCXMd0/A50zdg8x",
      "include_colab_link": true
    },
    "kernelspec": {
      "name": "python3",
      "display_name": "Python 3"
    },
    "language_info": {
      "name": "python"
    }
  },
  "cells": [
    {
      "cell_type": "markdown",
      "metadata": {
        "id": "view-in-github",
        "colab_type": "text"
      },
      "source": [
        "<a href=\"https://colab.research.google.com/github/DavidMichaelH/EnchantedJackpot/blob/main/EnchantedJackpot.ipynb\" target=\"_parent\"><img src=\"https://colab.research.google.com/assets/colab-badge.svg\" alt=\"Open In Colab\"/></a>"
      ]
    },
    {
      "cell_type": "code",
      "execution_count": null,
      "metadata": {
        "id": "ySebFKeKXcZZ"
      },
      "outputs": [],
      "source": [
        "# Require imports for this notebook\n",
        "import numpy as np\n",
        "import matplotlib.pyplot as plt\n",
        "from tqdm import tqdm\n",
        "import random"
      ]
    },
    {
      "cell_type": "markdown",
      "source": [
        "# The Enchated Jackpot\n",
        "\n",
        "This slots-style game consists of 6 icons. To make our analysis convient we can enumerate them as values $\\{0,1,2,3,4,5\\}$. The outcome of a single spin results in an random configuration in a 3x4 grid as illustrated below.\n",
        "\n",
        "|   |   |   |   |\n",
        "|---|---|---|---|\n",
        "| 0 | 1 | 3 | 4 |\n",
        "| 5 | 2 | 0 | 1 |\n",
        "| 3 | 4 | 5 | 2 |\n",
        "\n",
        "Each cell takes a random value independently of all other cells and all previous spins. That is, the values of the cells $c_{ij}$ are i.i.d., uniformly distributed over the values $\\{0,1,2,3,4,5\\}$, and all outcomes are independent between spins.\n",
        "\n",
        "\n",
        "\n",
        "\n"
      ],
      "metadata": {
        "id": "mi2XUYvdYhJ7"
      }
    },
    {
      "cell_type": "markdown",
      "source": [
        "# Scoring Combinations:\n",
        "\n",
        "\n",
        "- The game calculates your score based on specific value combinations in each row and column.\n",
        "- Points are earned through hands, with each hand type having its own bet multiplier.\n",
        "\n",
        "### Row Multipliers:\n",
        "\n",
        "\n",
        "- None: No combination - Multiplier: 0\n",
        "- Single-Double: One pair of matching values - Multiplier: 1/3\n",
        "- Double-Double: Two pairs of matching values - Multiplier: 5/6\n",
        "- Triple: Three matching values in a row - Multiplier: 2/3\n",
        "- Quad: All four values in a row match - Multiplier: 2\n",
        "\n",
        "### Column Multipliers:\n",
        "\n",
        "- None: No combination - Multiplier: 0\n",
        "- Single-Double: One pair of matching values - Multiplier: 1/3\n",
        "- Triple: Three matching values in a column - Multiplier: 2/3\n",
        "\n",
        "### Final Score Calculation:\n",
        "\n",
        "- The final bet multiplier is calculated by summing the multipliers for each row and column.\n",
        "- The final amount earned by the player for each spin is then computed as `Final Bet Multiplier` $ \\times $ `Bet Amount`"
      ],
      "metadata": {
        "id": "yFoqQmnyyKPw"
      }
    },
    {
      "cell_type": "code",
      "source": [
        "# Pay-Tables for rows and columns expressed as python dictionaries\n",
        "row_pay_table = {\"none\":0,\"single-double\": 1/3, \"double-double\": 5/6, \"triple\": 2/3, \"quad\": 2}\n",
        "col_pay_table = {\"none\":0,\"single-double\": 1/3, \"double-double\": 0 , \"triple\": 2/3, \"quad\": 0}"
      ],
      "metadata": {
        "id": "tQDgaDGpF0Vk"
      },
      "execution_count": null,
      "outputs": []
    },
    {
      "cell_type": "markdown",
      "source": [
        "# Return-to-Player and Variance\n",
        "\n",
        "We will first estimate the game statistics such as the Return-to-Player (RTP) and variance via monte carlo simulation. Following this we will find congruent results via exact calcultions.\n",
        "\n",
        "\n",
        "We start by defining a helper function which will determine if any of the relavent combinations are present in a give row/column."
      ],
      "metadata": {
        "id": "uzB2JX8CF7ta"
      }
    },
    {
      "cell_type": "code",
      "source": [
        "def analyze_row_col(icons):\n",
        "    \"\"\"\n",
        "    Analyzes a sequence of icons to identify and categorize subsequences of matching icons.\n",
        "\n",
        "    This function traverses a list of icons and identifies subsequences where the same icon\n",
        "    occurs consecutively. It categorizes these subsequences based on their length into various\n",
        "    'hands', such as 'single-double', 'double-double', 'triple', or 'quad'. It also records\n",
        "    the start and end indices of these subsequences.\n",
        "\n",
        "    Parameters:\n",
        "    icons (list of str): A list of strings representing the sequence of icons.\n",
        "\n",
        "    Returns:\n",
        "    tuple:\n",
        "        - hand (str): The highest-value hand identified in the sequence. One of 'none',\n",
        "          'single-double', 'double-double', 'triple', or 'quad'.\n",
        "        - indices (list of list of int): List of [start, end] indices for each identified subsequence\n",
        "          with a length of at least two.\n",
        "\n",
        "    Example:\n",
        "    >>> analyze_sequences(['A', 'A', 'B', 'C', 'C', 'C', 'D'])\n",
        "    ('triple', [[0, 1], [3, 5]])\n",
        "    \"\"\"\n",
        "\n",
        "    hand = \"none\"\n",
        "    start = 0\n",
        "    indices = []\n",
        "\n",
        "    while start < len(icons):\n",
        "        end = start\n",
        "        next_range = [start]\n",
        "        while end < len(icons) and icons[end] == icons[start]:\n",
        "            end += 1\n",
        "\n",
        "        next_range.append(end - 1)\n",
        "        if end - start >= 2:\n",
        "            indices.append(next_range)\n",
        "\n",
        "        sequence_length = end - start\n",
        "\n",
        "        if sequence_length == 2:\n",
        "            if hand == \"single-double\":\n",
        "                hand = \"double-double\"\n",
        "            else:\n",
        "                hand = \"single-double\"\n",
        "        elif sequence_length == 3:\n",
        "            hand = \"triple\"\n",
        "        elif sequence_length == 4:\n",
        "            hand = \"quad\"\n",
        "\n",
        "        start = end\n",
        "\n",
        "    return hand, indices\n"
      ],
      "metadata": {
        "id": "6EXaqHPwDmaj"
      },
      "execution_count": null,
      "outputs": []
    },
    {
      "cell_type": "markdown",
      "source": [
        "# Monte Carlo Simulation\n",
        "\n",
        "We now generate game value statistics by generating a spin, computing the bet-multiplier, and recording the bet-multiplier in a list."
      ],
      "metadata": {
        "id": "5CPUCVwFrNhd"
      }
    },
    {
      "cell_type": "code",
      "source": [
        "random.seed(0)\n",
        "\n",
        "Trials = 100000\n",
        "game_values =[]\n",
        "for trails in tqdm(range(Trials)):\n",
        "\n",
        "    grid = np.random.randint(1, 6+1, (4, 3))\n",
        "    grid_transpose = grid.T\n",
        "\n",
        "    game_value = 0\n",
        "    for c in range(4):\n",
        "        hand , _ = analyze_row_col(grid[c])\n",
        "        game_value += col_pay_table[hand]\n",
        "\n",
        "    for r in range(3):\n",
        "        hand , _ = analyze_row_col(grid_transpose[r])\n",
        "        game_value += row_pay_table[hand]\n",
        "\n",
        "    game_values.append(game_value)\n",
        "\n",
        "\n",
        "game_values = np.array(game_values)\n"
      ],
      "metadata": {
        "id": "40k0CNkarPq9"
      },
      "execution_count": null,
      "outputs": []
    },
    {
      "cell_type": "markdown",
      "source": [
        "### Statistics\n",
        "We can estimate the RTP as the mean of the game values and as well compute the standard deviation of the game."
      ],
      "metadata": {
        "id": "NjaXt_9GYdt1"
      }
    },
    {
      "cell_type": "code",
      "source": [
        "print(\"Game Stats\")\n",
        "print(f\"Mean: {game_values.mean()}\")\n",
        "print(f\"Standard deviation: {game_values.std()}\")"
      ],
      "metadata": {
        "id": "WJH6ncJSr2Pf"
      },
      "execution_count": null,
      "outputs": []
    },
    {
      "cell_type": "markdown",
      "source": [
        "We can visualize the game statistics as a histogram"
      ],
      "metadata": {
        "id": "nNk6Rz6jY_uJ"
      }
    },
    {
      "cell_type": "code",
      "source": [
        "plt.hist(game_values,bins=15)\n",
        "plt.show()"
      ],
      "metadata": {
        "id": "Qc25qADetN1q"
      },
      "execution_count": null,
      "outputs": []
    },
    {
      "cell_type": "markdown",
      "source": [
        "# Exact Approach\n",
        "\n",
        "We will now carry out an exact calculation for the sake of completeness and to fortify the confidence in the monte carlo estimates.\n",
        "\n",
        "In order to carry out an exact analysis we will need the probabilites for the various combinations. We do this by calculating the number of ways certain combinations could occur for rows and columns."
      ],
      "metadata": {
        "id": "Rteh3k5tq5Mc"
      }
    },
    {
      "cell_type": "markdown",
      "source": [
        "\n",
        "## Row Combinations\n",
        "\n",
        "For a single row you can have a quad, triple, double-double, or a single-double. Let $C = 6$ denote the number of cell values/icons.\n",
        "\n",
        "- Quad: $C$\n",
        "  - There are $C$ possible choices for the common value of the quad.\n",
        "\n",
        "- Double-Double: $C(C-1)$\n",
        "  - There are $C$ possible choices for the first pair and $C-1$ for the remaining pair.\n",
        "- Triple: $ 2C(C-1) $\n",
        "  - There are $C$ possible choices for the triple pair, $C-1$ for the remaining value, and two ways for the icons to be arranged. That is we can have `AAAB` and `BAAA`.\n",
        "- Single-Double: $3C(C-1)^2$\n",
        "  - There are $C$ possible choices for the double pair. Then $C-1$ for each of the remaining values, and three ways for the icons to be arranged.  \n",
        "\n",
        "\n",
        "# Column Combinations\n",
        "- Triple: $C$\n",
        "  - There are $C$ possible choices for the common value of the triple.\n",
        "- Double: $2C(C-1)$\n",
        "  - There are $C$ possible choices for the pair, $C-1$ for the remaining values, and $2$ ways for the icons to be arranged.\n"
      ],
      "metadata": {
        "id": "QeUmTt5Ys69a"
      }
    },
    {
      "cell_type": "code",
      "source": [
        "# Using our formulas we compute and store the row/column probabilities in the dictionaries.\n",
        "\n",
        "C = 6\n",
        "\n",
        "row_probs = {\"none\":0,\"single-double\": 0, \"double-double\": 0, \"triple\": 0, \"quad\": 0}\n",
        "col_probs = {\"none\":0,\"single-double\": 0, \"double-double\": 0, \"triple\": 0, \"quad\": 0}\n",
        "\n",
        "# Row probabilities\n",
        "row_probs[\"quad\"] = C/C**4\n",
        "row_probs[\"triple\"] = 2*C*(C-1)/C**4\n",
        "row_probs[\"double-double\"] = C*(C-1)/C**4\n",
        "row_probs[\"single-double\"] = (3*C*(C-1)**2)/C**4\n",
        "row_probs[\"none\"] = 1-sum(row_probs.values())\n",
        "\n",
        "col_probs[\"triple\"] = C/C**3\n",
        "col_probs[\"single-double\"] = 2*(C*(C-1))/C**3\n",
        "col_probs[\"none\"] = 1-sum(col_probs.values())\n",
        ""
      ],
      "metadata": {
        "id": "IgwzIhDPq7oW"
      },
      "execution_count": null,
      "outputs": []
    },
    {
      "cell_type": "markdown",
      "source": [
        "# Game Value\n",
        "\n",
        "The value of a game is a random variable $W$ which can be expressed as\n",
        "\n",
        "$$ W = \\sum_{i=1}^3 R_i + \\sum_{j=1}^4 C_j $$\n",
        "\n",
        "where $R_i$ and $C_j$ are the random values associated to the row $i$ and column $j$ respectively. Further $R_i$ and $C_j$ can be expressed as,\n",
        "\n",
        "\n",
        "$$R_i = \\dfrac{1}{3}\\text{1}_{\\text{Single-Pair at row $i$}} + \\dfrac{5}{6}\\text{1}_{\\text{Double-Pair at row $i$}}+\\dfrac{2}{3}\\text{1}_{\\text{Triple at row $i$}}+2\\text{1}_{\\text{Quad at row $i$}} $$\n",
        "$$C_j = \\dfrac{1}{3}\\text{1}_{\\text{Single-Pair at column $j$}}+ \\dfrac{2}{3}\\text{1}_{\\text{Triple at column $j$}} $$"
      ],
      "metadata": {
        "id": "lHOaG-GugLLA"
      }
    },
    {
      "cell_type": "markdown",
      "source": [
        "# Expected Game Value\n",
        "\n",
        "We can compute the expected value of game assuming a bet size of $1$. We will find a result which comports with the monte carlo simulation."
      ],
      "metadata": {
        "id": "r2p3Zf-mqoa6"
      }
    },
    {
      "cell_type": "code",
      "source": [
        "expected_game_val = 0\n",
        "\n",
        "for k,p in row_probs.items():\n",
        "    expected_game_val += 3*p*row_pay_table[k]\n",
        "\n",
        "for k,p in col_probs.items():\n",
        "   expected_game_val += 4*p*col_pay_table[k]\n",
        "\n",
        "print(f\"Exact expected value of a single spin: {expected_game_val}\")\n"
      ],
      "metadata": {
        "id": "n0bC9ey0Rs5o"
      },
      "execution_count": null,
      "outputs": []
    },
    {
      "cell_type": "markdown",
      "source": [
        "# Variance Calculations\n",
        "\n",
        "There is a nice property that allows us to show that the column events and row events are in fact indpendent.\n",
        "\n",
        " Indeed let $E_{R}$ denote a general row event (e.g. Row contains Double-Double) and $E_C$ denote an arbitary column event (e.g. Column contains Triple) .  Then if $c$ is the value of their common cell then $\\mathbb{P}(E_{R}|c=i) = \\mathbb{P}(E_{R}|c  = j)$ and $\\mathbb{P}(E_{C}|c=i) = \\mathbb{P}(E_{C}|c = j)$ for all $i,j$. As a consequence\n",
        "\n",
        "\n",
        "\n",
        " $$ \\mathbb{P}(E_{R} ) = \\sum_{i=1}^6 \\mathbb{P}(E_{R}|c=i)  \\mathbb{P}(c = i)= \\sum_{i=1}^6 \\mathbb{P}(E_{R}|c=j)  \\mathbb{P}(c = i) = \\mathbb{P}(E_{R}|c=j) \\times \\sum_{i=1}^6  \\mathbb{P}(c = i)  =   \\mathbb{P}(E_{R}|c=j)  $$\n",
        "\n",
        "Using that fact enables us to prove row events are independent of column events. Observe,\n",
        "\n",
        "$$ \\mathbb{P}(E_{R}\\cap E_{C} ) = \\sum_{i=1}^6 \\mathbb{P}(E_{R}\\cap E_{C} |c = i)\\mathbb{P}(c = i) = \\sum_{i=1}^6 \\mathbb{P}(E_{R} |c = i) \\mathbb{P}(E_{C} |c = i) \\mathbb{P}(c = i) $$\n",
        "\n",
        "$$ = \\sum_{i=1}^6 \\mathbb{P}(E_{R}) \\mathbb{P}(E_{C} ) \\mathbb{P}(c = i) =  \\mathbb{P}(E_{R}) \\mathbb{P}(E_{C} ) $$\n",
        "\n",
        "\n",
        "\n",
        "Using this we can compute a formula for the variance which we compute below. We do so again assuming a bet size of $1$. We will find a result which comports with the monte carlo simulation.\n",
        ""
      ],
      "metadata": {
        "id": "kYobcwrHG-08"
      }
    },
    {
      "cell_type": "code",
      "source": [
        "variance_game_val = 0\n",
        "\n",
        "for k1,p1 in row_probs.items():\n",
        "  for k2,p2 in row_probs.items():\n",
        "    if k1 != k2:\n",
        "      variance_game_val += -3*p1*p2*row_pay_table[k1]*row_pay_table[k2]\n",
        "    else:\n",
        "      variance_game_val += 3*p1*(1-p1)*row_pay_table[k1]*row_pay_table[k2]\n",
        "\n",
        "for k1,p1 in col_probs.items():\n",
        "  for k2,p2 in col_probs.items():\n",
        "    if k1 != k2:\n",
        "      variance_game_val += -4*p1*p2*col_pay_table[k1]*col_pay_table[k2]\n",
        "    else:\n",
        "      variance_game_val += 4*p1*(1-p1)*col_pay_table[k1]*col_pay_table[k2]\n",
        "\n",
        "print(f\"Theoretical variance of a single game: {np.sqrt(variance_game_val)}\")\n",
        "\n"
      ],
      "metadata": {
        "id": "oAqT33B_HAK3"
      },
      "execution_count": null,
      "outputs": []
    }
  ]
}